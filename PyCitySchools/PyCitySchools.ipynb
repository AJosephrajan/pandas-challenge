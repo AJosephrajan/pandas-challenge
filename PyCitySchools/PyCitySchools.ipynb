{
 "cells": [
  {
   "cell_type": "code",
   "execution_count": null,
   "id": "6055dc85",
   "metadata": {},
   "outputs": [],
   "source": [
    "# Assignment 4 - Pandas Challenge\n",
    "#Using Pandas and Jupyter Notebook, create a report that includes the following data.\n",
    "#Your report must include a written description of at least two observable trends based on the data."
   ]
  },
  {
   "cell_type": "code",
   "execution_count": 226,
   "id": "9e105a52",
   "metadata": {},
   "outputs": [],
   "source": [
    "# Import Pandas\n",
    "import pandas as pd\n",
    "from pathlib import Path\n",
    " "
   ]
  },
  {
   "cell_type": "code",
   "execution_count": 227,
   "id": "289e0bb7",
   "metadata": {},
   "outputs": [],
   "source": [
    "# Set the Path for the Csv Files\n",
    "schools_completedata = Path(\"Resources/schools_complete.csv\")\n",
    "students_completedata = Path(\"Resources/students_complete.csv\")"
   ]
  },
  {
   "cell_type": "code",
   "execution_count": 261,
   "id": "466dfe15",
   "metadata": {},
   "outputs": [],
   "source": [
    "# Read the csv files using Pandas\n",
    "schools_complete_df = pd.read_csv(schools_completedata )\n",
    "schools_complete_df.head()\n"
   ]
  },
  {
   "cell_type": "code",
   "execution_count": 262,
   "id": "035a81d0",
   "metadata": {
    "scrolled": true
   },
   "outputs": [],
   "source": [
    "students_complete_df = pd.read_csv(students_completedata )\n",
    "students_complete_df.head()"
   ]
  },
  {
   "cell_type": "code",
   "execution_count": 263,
   "id": "3a480ca5",
   "metadata": {},
   "outputs": [],
   "source": [
    "# Combine the two Data sheets into single data set using Merging\n",
    "school_data_complte = pd.merge(schools_complete_df,students_complete_df , how =\"left\", on = [\"school_name\",\"school_name\"])\n",
    "school_data_complte.head()"
   ]
  },
  {
   "cell_type": "code",
   "execution_count": 264,
   "id": "d3621b32",
   "metadata": {},
   "outputs": [],
   "source": [
    "#Perform the necessary calculations and then create a high-level snapshot of the district's key metrics in a DataFrame.\n",
    "\n",
    "#Include the following:\n",
    "\n",
    "#Total number of unique schools\n",
    "school_count = len(school_data_complte[\"school_name\"].unique())\n",
    "school_count\n"
   ]
  },
  {
   "cell_type": "code",
   "execution_count": 265,
   "id": "c87b853a",
   "metadata": {},
   "outputs": [],
   "source": [
    "# CalculateTotal students\n",
    "student_count = len(school_data_complte[\"Student ID\"])\n",
    "student_count"
   ]
  },
  {
   "cell_type": "code",
   "execution_count": 266,
   "id": "3782571b",
   "metadata": {},
   "outputs": [],
   "source": [
    "# Calculate Total budget\n",
    "# total_budget = school_data_complte[\"budget\"].sum()\n",
    "total_budget = sum(school_data_complte[\"budget\"].unique())\n",
    "total_budget"
   ]
  },
  {
   "cell_type": "code",
   "execution_count": 267,
   "id": "1e424824",
   "metadata": {},
   "outputs": [],
   "source": [
    "# To caculate Average Math score\n",
    "math_average = round(school_data_complte[\"math_score\"].mean(),2)\n",
    "math_average"
   ]
  },
  {
   "cell_type": "code",
   "execution_count": 268,
   "id": "737832e3",
   "metadata": {},
   "outputs": [],
   "source": [
    "# To caculate Average Reading score\n",
    "reading_average = round(school_data_complte[\"reading_score\"].mean(),2)\n",
    "reading_average"
   ]
  },
  {
   "cell_type": "code",
   "execution_count": 269,
   "id": "8c9ac69e",
   "metadata": {},
   "outputs": [],
   "source": [
    "# % passing math (the percentage of students who passed math)(Math Score >=70)\n",
    "passing_math_count = school_data_complte[(school_data_complte[\"math_score\"] >= 70)].count()[\"student_name\"]\n",
    "# passing_math_count\n",
    "passing_math_percentage = round((passing_math_count/student_count)*100,2)\n",
    "passing_math_percentage"
   ]
  },
  {
   "cell_type": "code",
   "execution_count": 270,
   "id": "b530be34",
   "metadata": {},
   "outputs": [],
   "source": [
    "# % passing reading (the percentage of students who passed reading)\n",
    "passing_reading_count = school_data_complte[\n",
    "        (school_data_complte[\"reading_score\"] >= 70)].count()[\"reading_score\"]\n",
    "# passing_reading_count\n",
    "passing_reading_percentage = round((passing_reading_count/student_count)*100,2)\n",
    "passing_reading_percentage "
   ]
  },
  {
   "cell_type": "code",
   "execution_count": 271,
   "id": "5dfadc2e",
   "metadata": {},
   "outputs": [],
   "source": [
    "# % overall passing (the percentage of students who passed math AND reading) - Total passing score\n",
    "math_reading_pass_count = school_data_complte[\n",
    "        (school_data_complte[\"math_score\"] >= 70) & (school_data_complte[\"reading_score\"] >=70)].count()[\"student_name\"]\n",
    "# math_reading_pass_count\n",
    "math_reading_pass_percentage = round((math_reading_pass_count/student_count)*100,2)\n",
    "math_reading_pass_percentage\n"
   ]
  },
  {
   "cell_type": "code",
   "execution_count": 272,
   "id": "50ea2b92",
   "metadata": {},
   "outputs": [],
   "source": [
    "# Create a new DataFrame for the above calculations called district_summary \n",
    "district_summary = pd.DataFrame({\n",
    "                                     \"Total Schools\" : [school_count],\n",
    "                                     \"Total Students\": [student_count],\n",
    "                                     \"Total Budget\" : [total_budget],                                                             \n",
    "                                     \"Math Average \" : [math_average],\n",
    "                                     \"Reading Average\": [reading_average],\n",
    "                                     \"Passing Math Percentage\":[passing_math_percentage],\n",
    "                                     \"Passing Reading Percentage\":[passing_reading_percentage],\n",
    "                                     \"Overall Passing Percentage\" :[math_reading_pass_percentage]\n",
    "\n",
    "                                })\n",
    "\n",
    "# Formatting the attributes Total Students and Budget\n",
    "district_summary[\"Total Students\"] = district_summary[\"Total Students\"].map(\"{:,}\".format)\n",
    "district_summary[\"Total Budget\"] = district_summary[\"Total Budget\"].map(\"${:,.2f}\".format)\n",
    "district_summary"
   ]
  },
  {
   "cell_type": "code",
   "execution_count": 240,
   "id": "7359f888",
   "metadata": {},
   "outputs": [],
   "source": [
    "# Perform the necessary calculations and then create a DataFrame that summarizes key metrics about each school.\n",
    "\n",
    "#Include the following:\n",
    "\n",
    "# group by School name\n",
    "# school_names =  list(set(school_data_complte[\"school_name\"]))\n",
    "# school_names =  school_data_complte.groupby(['school_name'])\n",
    "# school_names "
   ]
  },
  {
   "cell_type": "code",
   "execution_count": 273,
   "id": "dad418e5",
   "metadata": {},
   "outputs": [],
   "source": [
    "# School type\n",
    "school_types = schools_complete_df.set_index([\"school_name\"])[\"type\"]\n",
    "school_types"
   ]
  },
  {
   "cell_type": "code",
   "execution_count": 274,
   "id": "194a5402",
   "metadata": {},
   "outputs": [],
   "source": [
    "# Total students count \n",
    "per_school_counts = school_data_complte.groupby([\"school_name\"])['Student ID'].count()\n",
    "# per_school_counts = school_names[\"Student ID\"].count()\n",
    "per_school_counts"
   ]
  },
  {
   "cell_type": "code",
   "execution_count": 275,
   "id": "3378e7b7",
   "metadata": {},
   "outputs": [],
   "source": [
    "#Total school budget\n",
    "\n",
    "#Per student budget\n",
    "\n",
    "# per_school_budget = school_data_complte.groupby([\"school_name\"])['budget']\n",
    "per_school_budget =schools_complete_df.set_index('school_name')['budget']\n",
    "# per_school_budget = school_data_complte.set_index([\"school_name\"])['budget']\n",
    "per_school_budget\n"
   ]
  },
  {
   "cell_type": "code",
   "execution_count": 276,
   "id": "01f9183b",
   "metadata": {},
   "outputs": [],
   "source": [
    "#Per student budget\n",
    "Per_student_budget= schools_complete_df.set_index('school_name')['budget']/schools_complete_df.set_index('school_name')['size']\n",
    "Per_student_budget"
   ]
  },
  {
   "cell_type": "code",
   "execution_count": 245,
   "id": "a12589cb",
   "metadata": {},
   "outputs": [],
   "source": [
    "# Calculate the average (math  & reading) test scores\n",
    "# per_school_math = round(school_data_complte['math_score'].mean(),2)\n",
    "per_school_math = school_data_complte.groupby([\"school_name\"])['math_score'].mean()\n",
    "per_school_math\n",
    "per_school_reading = school_data_complte.groupby([\"school_name\"])['reading_score'].mean()\n",
    "# per_school_reading"
   ]
  },
  {
   "cell_type": "code",
   "execution_count": 246,
   "id": "5c6497ad",
   "metadata": {},
   "outputs": [],
   "source": [
    "# Calculate the number of schools with math scores of 70 or higher \n",
    "students_passing_math = school_data_complte['math_score']>=70\n",
    "# students_passing_math\n",
    "school_students_passing_math =school_data_complte[students_passing_math].groupby('school_name')['Student ID'].count()\n",
    "school_students_passing_math"
   ]
  },
  {
   "cell_type": "code",
   "execution_count": 247,
   "id": "194d07cd",
   "metadata": {},
   "outputs": [],
   "source": [
    "# Calculate the number of schools with reading scores of 70 or higher \n",
    "students_passing_reading = school_data_complte['reading_score']>=70\n",
    "# students_passing_math\n",
    "school_students_passing_reading =school_data_complte[students_passing_reading].groupby('school_name')['Student ID'].count()\n",
    "school_students_passing_reading"
   ]
  },
  {
   "cell_type": "code",
   "execution_count": 248,
   "id": "795a7e49",
   "metadata": {},
   "outputs": [],
   "source": [
    "#Use the provided code to calculate the schools that passed both math and reading with scores of 70 or higher\n",
    "students_passing_math_and_reading = school_data_complte[(school_data_complte['reading_score']>=70) & (school_data_complte['math_score']>=70)]\n",
    "# students_passing_math_and_reading \n",
    "school_students_passing_math_and_reading = students_passing_math_and_reading.groupby('school_name').size()\n",
    "# school_students_passing_math_and_reading = students_passing_math_and_reading.groupby('school_name')['Student ID'].mean()\n",
    "school_students_passing_math_and_reading"
   ]
  },
  {
   "cell_type": "code",
   "execution_count": 249,
   "id": "27e4c10e",
   "metadata": {},
   "outputs": [],
   "source": [
    "# Use the provided code to calculate the passing rates\n",
    "per_school_passing_math = round((school_students_passing_math/per_school_counts)*100,2)\n",
    "# per_school_passing_math\n",
    "per_school_passing_reading = round((school_students_passing_reading/per_school_counts)*100,2)\n",
    "# per_school_passing_reading\n",
    "overall_passing_rate = round((school_students_passing_math_and_reading/per_school_counts)*100,2)\n",
    "# len(overall_passing_rate)"
   ]
  },
  {
   "cell_type": "code",
   "execution_count": 277,
   "id": "f02a2dd9",
   "metadata": {},
   "outputs": [],
   "source": [
    "#Create a new DataFrame for the above calculations called per_school_summary \n",
    "#Display the the DataFrame\n",
    "per_school_summary = pd.DataFrame({ \n",
    "#                                     \"School Names\": [school_names],\n",
    "                                    \"School Types\": school_types,\n",
    "                                    \"Total Sudents\":per_school_counts,\n",
    "                                    \"Total Budget\":per_school_budget,\n",
    "                                    \"Per Student Budget\":Per_student_budget,\n",
    "                                    \"Average Passing in Math\":per_school_math, \n",
    "                                    \"Average Passing in Reading\":per_school_reading,#                                   \n",
    "                                    \"% Passing in Math\":per_school_passing_math,\n",
    "                                    \"% Passing in Reading\":per_school_passing_reading,\n",
    "                                    \"Overall Passing Rate\":overall_passing_rate  \n",
    "                                  })\n",
    "                                  \n",
    "#Formatting\n",
    "per_school_summary[\"Total Budget\"] = per_school_summary[\"Total Budget\"].map(\"${:,.2f}\".format)\n",
    "per_school_summary[\"Per Student Budget\"] = per_school_summary[\"Per Student Budget\"].map(\"${:,.2f}\".format)\n",
    "\n",
    "# Display the DataFrame\n",
    "per_school_summary "
   ]
  },
  {
   "cell_type": "code",
   "execution_count": 278,
   "id": "725c38f7",
   "metadata": {},
   "outputs": [],
   "source": [
    "# Highest-Performing Schools by Percentage of Overall Passing\n",
    "#Sort the schools by % Overall Passing in descending order\n",
    "top_schools = per_school_summary.sort_values([\"Overall Passing Rate\"], ascending = False)\n",
    "top_schools()"
   ]
  },
  {
   "cell_type": "code",
   "execution_count": 279,
   "id": "e15fe80d",
   "metadata": {},
   "outputs": [],
   "source": [
    "# Sort the schools by `% Overall Passing` in ascending order and display the top 5 rows.\n",
    "bottom_schools = per_school_summary.sort_values([\"Overall Passing Rate\"])\n",
    "bottom_schools.head()"
   ]
  },
  {
   "cell_type": "code",
   "execution_count": 253,
   "id": "a4eb45c6",
   "metadata": {},
   "outputs": [],
   "source": [
    "#Math Scores by Grade\n",
    "#Use the code provided to separate the data by grade\n",
    "\n",
    "ninth_graders = school_data_complte[(school_data_complte[\"grade\"] == \"9th\")]\n",
    "tenth_graders = school_data_complte[(school_data_complte[\"grade\"] == \"10th\")]\n",
    "elevanth_graders = school_data_complte[(school_data_complte[\"grade\"] == \"11th\")]\n",
    "twelth_graders = school_data_complte[(school_data_complte[\"grade\"] == \"12th\")]\n"
   ]
  },
  {
   "cell_type": "code",
   "execution_count": 280,
   "id": "8ce5c7c7",
   "metadata": {},
   "outputs": [],
   "source": [
    "#Group by \"school_name\" and take the mean of each\n",
    "ninth_grade_math_scores = ninth_graders.groupby('school_name')[\"math_score\"].mean()\n",
    "tenth_grade_math_scores = tenth_graders.groupby('school_name')[\"math_score\"].mean()\n",
    "eleventh_grade_math_scores = elevanth_graders.groupby('school_name')[\"math_score\"].mean()\n",
    "twelth_grade_math_scores = twelth_graders.groupby('school_name')[\"math_score\"].mean()\n",
    "\n",
    "# Combine each of the scores above into single DataFrame called `math_scores_by_grade`\n",
    "math_scores_by_grade = pd.DataFrame({\"9th Math Score\":ninth_grade_math_scores,\n",
    "                                     \"10th Math Score\":tenth_grade_math_scores,\n",
    "                                     \"11th Math Score\":eleventh_grade_math_scores,\n",
    "                                     \"12th Math Score\":twelth_grade_math_scores\n",
    "                                    })\n",
    "# math_scores_by_grade \n",
    "# Minor data wrangling\n",
    "math_scores_by_grade.index.name = None\n",
    "math_scores_by_grade "
   ]
  },
  {
   "cell_type": "code",
   "execution_count": 281,
   "id": "f9adb2e6",
   "metadata": {},
   "outputs": [],
   "source": [
    "#Reading Scores by Grade\n",
    "#Use the code provided to separate the data by grade\n",
    "ninth_graders = school_data_complte[(school_data_complte[\"grade\"] == \"9th\")]\n",
    "tenth_graders = school_data_complte[(school_data_complte[\"grade\"] == \"10th\")]\n",
    "elevanth_graders = school_data_complte[(school_data_complte[\"grade\"] == \"11th\")]\n",
    "twelth_graders = school_data_complte[(school_data_complte[\"grade\"] == \"12th\")]\n",
    "#Group by \"school_name\" and take the mean of each\n",
    "ninth_grade_reading_scores = ninth_graders.groupby('school_name')[\"reading_score\"].mean()\n",
    "tenth_grade_reading_scores = tenth_graders.groupby('school_name')[\"reading_score\"].mean()\n",
    "eleventh_grade_reading_scores = elevanth_graders.groupby('school_name')[\"reading_score\"].mean()\n",
    "twelth_grade_reading_scores = twelth_graders.groupby('school_name')[\"reading_score\"].mean()\n",
    "# Combine each of the scores above into single DataFrame called `reading_scores_by_grade`\n",
    "reading_scores_by_grade = pd.DataFrame({\n",
    "                                         \"9th Reading Score\":ninth_grade_reading_scores,\n",
    "                                         \"10th Reading Score\":tenth_grade_reading_scores,\n",
    "                                         \"11th Reading Score\":eleventh_grade_reading_scores,\n",
    "                                         \"12th Reading Score\":twelth_grade_reading_scores\n",
    "                                     })\n",
    "reading_scores_by_grade\n",
    "# Minor data wrangling\n",
    "reading_scores_by_grade = reading_scores_by_grade[[\"9th Reading Score\", \"10th Reading Score\", \"11th Reading Score\", \"12th Reading Score\"]]\n",
    "reading_scores_by_grade.index.name = None\n",
    "\n",
    "# Display the DataFrame\n",
    "reading_scores_by_grade"
   ]
  },
  {
   "cell_type": "code",
   "execution_count": 282,
   "id": "018c231b",
   "metadata": {},
   "outputs": [],
   "source": [
    "#Scores by School Spending \n",
    "# Establish the bins \n",
    "spending_bins = [0, 585, 630, 645, 680]\n",
    "labels = [\"<$585\", \"$585-630\", \"$630-645\", \"$645-680\"]\n",
    "#Create a copy of the school summary since it has the \"Per Student Budget\" \n",
    "school_spending_df = per_school_summary.copy()\n",
    "# Use `pd.cut` to categorize spending based on the bins.\n",
    "school_spending_df[\"Spending Ranges (Per Student)\"] = pd.cut(Per_student_budget,spending_bins,labels = labels)\n",
    "school_spending_df"
   ]
  },
  {
   "cell_type": "code",
   "execution_count": 283,
   "id": "0e85ab21",
   "metadata": {},
   "outputs": [],
   "source": [
    "#  Calculate averages for the desired columns. \n",
    "spending_math_scores = school_spending_df.groupby([\"Spending Ranges (Per Student)\"])[\"Average Passing in Math\"].mean()\n",
    "spending_reading_scores = school_spending_df.groupby([\"Spending Ranges (Per Student)\"])[\"Average Passing in Reading\"].mean()\n",
    "spending_passing_math = school_spending_df.groupby([\"Spending Ranges (Per Student)\"])[\"% Passing in Math\"].mean()\n",
    "spending_passing_reading = school_spending_df.groupby([\"Spending Ranges (Per Student)\"])[\"% Passing in Reading\"].mean()\n",
    "overall_passing_spending = school_spending_df.groupby([\"Spending Ranges (Per Student)\"])[\"Overall Passing Rate\"].mean()\n",
    "# Assemble into DataFrame\n",
    "spending_summary = pd.DataFrame({   \n",
    "                                    \"Average Math Score\": spending_math_scores,\n",
    "                                    \"Average Reading Score\": spending_reading_scores,\n",
    "                                    \"% Passing Math\": spending_passing_math,\n",
    "                                    \"% Passing Reading\": spending_passing_reading,\n",
    "                                    \"% Overall Passing\": overall_passing_spending                                                                    \n",
    "    \n",
    "                                   })\n",
    "\n",
    "# Display results\n",
    "spending_summary"
   ]
  },
  {
   "cell_type": "code",
   "execution_count": 284,
   "id": "f525ba66",
   "metadata": {},
   "outputs": [],
   "source": [
    "#Scores by School Size \n",
    "# Establish the bins.\n",
    "size_bins = [0, 1000, 2000, 5000]\n",
    "labels = [\"Small (<1000)\", \"Medium (1000-2000)\", \"Large (2000-5000)\"]\n",
    "\n",
    "# Categorize the spending based on the bins\n",
    "# Use `pd.cut` on the \"Total Students\" column of the `per_school_summary` DataFrame.\n",
    "\n",
    "per_school_summary[\"School Size\"] = pd.cut(per_school_counts,size_bins,labels = labels)\n",
    "\n",
    "per_school_summary"
   ]
  },
  {
   "cell_type": "code",
   "execution_count": 285,
   "id": "5e0344c3",
   "metadata": {},
   "outputs": [],
   "source": [
    "# Calculate averages for the desired columns. \n",
    "size_math_scores = per_school_summary.groupby([\"School Size\"])[\"Average Passing in Math\"].mean()\n",
    "size_reading_scores = per_school_summary.groupby([\"School Size\"])[\"Average Passing in Reading\"].mean()\n",
    "size_passing_math = per_school_summary.groupby([\"School Size\"])[\"% Passing in Math\"].mean()\n",
    "size_passing_reading = per_school_summary.groupby([\"School Size\"])[\"% Passing in Reading\"].mean()\n",
    "size_overall_passing = per_school_summary.groupby([\"School Size\"])[\"Overall Passing Rate\"].mean()\n",
    "# Create a DataFrame called `size_summary` that breaks down school performance based on school size (small, medium, or large).\n",
    "# Use the scores above to create a new DataFrame called `size_summary`\n",
    "size_summary = pd.DataFrame({\n",
    "                                    \"Average Math Score\": size_math_scores,\n",
    "                                    \"Average Reading Score\": size_reading_scores,\n",
    "                                    \"% Passing Math\": size_passing_math,\n",
    "                                    \"% Passing Reading\": size_passing_reading,\n",
    "                                    \"% Overall Passing\": size_overall_passing \n",
    "    \n",
    "                             })\n",
    "\n",
    "# Display results\n",
    "size_summary"
   ]
  },
  {
   "cell_type": "code",
   "execution_count": 286,
   "id": "aa8e1d52",
   "metadata": {},
   "outputs": [],
   "source": [
    "#Scores by School Type\n",
    "# Group the per_school_summary DataFrame by \"School Type\" and average the results.\n",
    "average_math_score_by_type = per_school_summary.groupby([\"School Types\"])[\"Average Passing in Math\"].mean()\n",
    "average_reading_score_by_type = per_school_summary.groupby([\"School Types\"])[\"Average Passing in Reading\"].mean()\n",
    "average_percent_passing_math_by_type = per_school_summary.groupby([\"School Types\"])[\"% Passing in Math\"].mean()\n",
    "average_percent_passing_reading_by_type = per_school_summary.groupby([\"School Types\"])[\"% Passing in Reading\"].mean()\n",
    "average_percent_overall_passing_by_type = per_school_summary.groupby([\"School Types\"])[\"Overall Passing Rate\"].mean()\n",
    "# Assemble the new data by type into a DataFrame called `type_summary`\n",
    "type_summary = pd.DataFrame({\n",
    "                                    \"Average Math Score\": average_math_score_by_type,\n",
    "                                    \"Average Reading Score\": average_reading_score_by_type,\n",
    "                                    \"% Passing Math\": average_percent_passing_math_by_type,\n",
    "                                    \"% Passing Reading\": average_percent_passing_reading_by_type,\n",
    "                                    \"% Overall Passing\": average_percent_overall_passing_by_type \n",
    "    \n",
    "                             })\n",
    "\n",
    "\n",
    "# Display results\n",
    "type_summary"
   ]
  },
  {
   "cell_type": "code",
   "execution_count": null,
   "id": "107dcefc",
   "metadata": {},
   "outputs": [],
   "source": []
  }
 ],
 "metadata": {
  "kernelspec": {
   "display_name": "Python 3 (ipykernel)",
   "language": "python",
   "name": "python3"
  },
  "language_info": {
   "codemirror_mode": {
    "name": "ipython",
    "version": 3
   },
   "file_extension": ".py",
   "mimetype": "text/x-python",
   "name": "python",
   "nbconvert_exporter": "python",
   "pygments_lexer": "ipython3",
   "version": "3.10.13"
  }
 },
 "nbformat": 4,
 "nbformat_minor": 5
}
